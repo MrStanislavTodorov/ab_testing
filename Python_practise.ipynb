{
 "cells": [
  {
   "cell_type": "markdown",
   "metadata": {},
   "source": [
    "Практические задачи на Python"
   ]
  },
  {
   "cell_type": "code",
   "execution_count": 2,
   "metadata": {},
   "outputs": [
    {
     "name": "stdout",
     "output_type": "stream",
     "text": [
      "One\n",
      "Two\n",
      "Three\n"
     ]
    }
   ],
   "source": [
    "first_str = 'One'\n",
    "second_str = 'Two'\n",
    "third_str = 'Three'\n",
    "print(first_str)\n",
    "print(second_str)\n",
    "print(third_str)"
   ]
  },
  {
   "cell_type": "code",
   "execution_count": 9,
   "metadata": {},
   "outputs": [],
   "source": [
    "def input_variable(number):\n",
    "    number = input('Введите число: ')\n",
    "    number = int(number)\n",
    "    target = 10\n",
    "    if number < target:\n",
    "        print('{number} меньше {target}'.format(number=number, target=target))\n",
    "    elif number == target:\n",
    "        print('{number} равно {target}'.format(number=number, target=target))\n",
    "    else:\n",
    "        print('{number} больше {target}'.format(number=number, target=target))\n",
    "    return"
   ]
  },
  {
   "cell_type": "code",
   "execution_count": 10,
   "metadata": {},
   "outputs": [
    {
     "name": "stdout",
     "output_type": "stream",
     "text": [
      "10 равно 10\n"
     ]
    }
   ],
   "source": [
    "input_variable(10)"
   ]
  },
  {
   "cell_type": "code",
   "execution_count": 5,
   "metadata": {},
   "outputs": [],
   "source": [
    "def dividing_numbers(one_num, two_num):\n",
    "    result = one_num // two_num\n",
    "    print('Результат остатка от деления {one_num} на {two_num} равен {result}'.format(one_num=one_num, two_num=two_num, result=result))\n",
    "    return"
   ]
  },
  {
   "cell_type": "code",
   "execution_count": 8,
   "metadata": {},
   "outputs": [
    {
     "name": "stdout",
     "output_type": "stream",
     "text": [
      "Результат остатка от деления 13 на 5 равен 2\n"
     ]
    }
   ],
   "source": [
    "dividing_numbers(13, 5)"
   ]
  }
 ],
 "metadata": {
  "interpreter": {
   "hash": "aee8b7b246df8f9039afb4144a1f6fd8d2ca17a180786b69acc140d282b71a49"
  },
  "kernelspec": {
   "display_name": "Python 3.10.2 64-bit",
   "language": "python",
   "name": "python3"
  },
  "language_info": {
   "codemirror_mode": {
    "name": "ipython",
    "version": 3
   },
   "file_extension": ".py",
   "mimetype": "text/x-python",
   "name": "python",
   "nbconvert_exporter": "python",
   "pygments_lexer": "ipython3",
   "version": "3.10.2"
  },
  "orig_nbformat": 4
 },
 "nbformat": 4,
 "nbformat_minor": 2
}
