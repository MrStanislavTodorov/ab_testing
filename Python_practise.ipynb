{
 "cells": [
  {
   "cell_type": "markdown",
   "metadata": {},
   "source": [
    "Практические задачи на Python"
   ]
  },
  {
   "cell_type": "code",
   "execution_count": 11,
   "metadata": {},
   "outputs": [
    {
     "name": "stdout",
     "output_type": "stream",
     "text": [
      "Requirement already satisfied: numpy in /Library/Frameworks/Python.framework/Versions/3.10/lib/python3.10/site-packages (1.22.2)\n",
      "\u001b[33mWARNING: You are using pip version 21.2.4; however, version 22.0.3 is available.\n",
      "You should consider upgrading via the '/usr/local/bin/python3 -m pip install --upgrade pip' command.\u001b[0m\n",
      "Note: you may need to restart the kernel to use updated packages.\n"
     ]
    }
   ],
   "source": [
    "pip install numpy  --trusted-host=pypi.python.org --trusted-host=pypi.org --trusted-host=files.pythonhosted.org"
   ]
  },
  {
   "cell_type": "code",
   "execution_count": 12,
   "metadata": {},
   "outputs": [],
   "source": [
    "import numpy as np"
   ]
  },
  {
   "cell_type": "code",
   "execution_count": 13,
   "metadata": {},
   "outputs": [
    {
     "name": "stdout",
     "output_type": "stream",
     "text": [
      "One\n",
      "Two\n",
      "Three\n"
     ]
    }
   ],
   "source": [
    "first_str = 'One'\n",
    "second_str = 'Two'\n",
    "third_str = 'Three'\n",
    "print(first_str)\n",
    "print(second_str)\n",
    "print(third_str)"
   ]
  },
  {
   "cell_type": "code",
   "execution_count": 14,
   "metadata": {},
   "outputs": [],
   "source": [
    "def input_variable(number):\n",
    "    number = input('Введите число: ')\n",
    "    number = int(number)\n",
    "    target = 10\n",
    "    if number < target:\n",
    "        print('{number} меньше {target}'.format(number=number, target=target))\n",
    "    elif number == target:\n",
    "        print('{number} равно {target}'.format(number=number, target=target))\n",
    "    else:\n",
    "        print('{number} больше {target}'.format(number=number, target=target))\n",
    "    return"
   ]
  },
  {
   "cell_type": "code",
   "execution_count": 15,
   "metadata": {},
   "outputs": [
    {
     "name": "stdout",
     "output_type": "stream",
     "text": [
      "15 больше 10\n"
     ]
    }
   ],
   "source": [
    "input_variable(10)"
   ]
  },
  {
   "cell_type": "code",
   "execution_count": 16,
   "metadata": {},
   "outputs": [],
   "source": [
    "def dividing_numbers(one_num, two_num):\n",
    "    result = one_num // two_num\n",
    "    print('Результат остатка от деления {one_num} на {two_num} равен {result}'.format(one_num=one_num, two_num=two_num, result=result))\n",
    "    return"
   ]
  },
  {
   "cell_type": "code",
   "execution_count": 17,
   "metadata": {},
   "outputs": [
    {
     "name": "stdout",
     "output_type": "stream",
     "text": [
      "Результат остатка от деления 13 на 5 равен 2\n"
     ]
    }
   ],
   "source": [
    "dividing_numbers(13, 5)"
   ]
  },
  {
   "cell_type": "code",
   "execution_count": 19,
   "metadata": {},
   "outputs": [],
   "source": [
    "def number_to_square(number):\n",
    "    square = np.power(number,2)\n",
    "    return print('Квадрат числа {number} равен {square}'.format(number=number,square=square))\n"
   ]
  },
  {
   "cell_type": "code",
   "execution_count": 20,
   "metadata": {},
   "outputs": [
    {
     "name": "stdout",
     "output_type": "stream",
     "text": [
      "Квадрат числа 12 равен 144\n"
     ]
    }
   ],
   "source": [
    "number_to_square(12)"
   ]
  },
  {
   "cell_type": "code",
   "execution_count": 32,
   "metadata": {},
   "outputs": [],
   "source": [
    "def list_sum(number):\n",
    "    numbers = [int(i) for i in str(number)]\n",
    "    summed = sum(numbers)\n",
    "    print('Введенное число {number} в результате разделения на составляющие в сумме отдельных элементов составило {summed}'.format(number=number,summed=summed))"
   ]
  },
  {
   "cell_type": "code",
   "execution_count": 34,
   "metadata": {},
   "outputs": [
    {
     "name": "stdout",
     "output_type": "stream",
     "text": [
      "Введенное число 1234 в результате разделения на составляющие в сумме отдельных элементов составило 10\n"
     ]
    }
   ],
   "source": [
    "list_sum(1234)"
   ]
  }
 ],
 "metadata": {
  "interpreter": {
   "hash": "aee8b7b246df8f9039afb4144a1f6fd8d2ca17a180786b69acc140d282b71a49"
  },
  "kernelspec": {
   "display_name": "Python 3.10.2 64-bit",
   "language": "python",
   "name": "python3"
  },
  "language_info": {
   "codemirror_mode": {
    "name": "ipython",
    "version": 3
   },
   "file_extension": ".py",
   "mimetype": "text/x-python",
   "name": "python",
   "nbconvert_exporter": "python",
   "pygments_lexer": "ipython3",
   "version": "3.10.2"
  },
  "orig_nbformat": 4
 },
 "nbformat": 4,
 "nbformat_minor": 2
}
